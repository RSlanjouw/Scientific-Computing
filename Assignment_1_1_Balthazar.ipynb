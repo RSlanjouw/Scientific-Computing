{
 "cells": [
  {
   "cell_type": "code",
   "execution_count": 1,
   "id": "22c4e87e-4be2-4b9a-9265-588f57baead4",
   "metadata": {},
   "outputs": [],
   "source": [
    "#Initialize\n",
    "L = 1 #length of string\n",
    "N = 100 #number of intervals on string\n",
    "dx = L/N #space step\n",
    "dt = .001 #time step\n",
    "c = 1 #constant from wave equation\n",
    "t_0 = 0 #starting time_value\n",
    "x_0 = 0 #most left space_value (the other one-most right- is L)\n",
    "t = 0 #initialization of time parameter\n",
    "psi = [] #list of values of psi kept as a list of points"
   ]
  },
  {
   "cell_type": "code",
   "execution_count": null,
   "id": "ddc1ad20-2272-4eb4-a3d7-4bb455d8331c",
   "metadata": {},
   "outputs": [],
   "source": [
    "#iteration step for psi\n",
    "\n",
    "t_count += dt"
   ]
  },
  {
   "cell_type": "code",
   "execution_count": null,
   "id": "f8b34297-8886-4a1f-8bb6-5a6b9dd40cf0",
   "metadata": {},
   "outputs": [],
   "source": [
    "#intial state of string\n"
   ]
  }
 ],
 "metadata": {
  "kernelspec": {
   "display_name": "Python 3 (ipykernel)",
   "language": "python",
   "name": "python3"
  },
  "language_info": {
   "codemirror_mode": {
    "name": "ipython",
    "version": 3
   },
   "file_extension": ".py",
   "mimetype": "text/x-python",
   "name": "python",
   "nbconvert_exporter": "python",
   "pygments_lexer": "ipython3",
   "version": "3.12.3"
  }
 },
 "nbformat": 4,
 "nbformat_minor": 5
}

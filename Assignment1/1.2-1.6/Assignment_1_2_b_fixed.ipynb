{
 "cells": [
  {
   "cell_type": "code",
   "execution_count": null,
   "metadata": {},
   "outputs": [],
   "source": [
    "%matplotlib inline\n",
    "\n",
    "import numpy as np\n",
    "import matplotlib.pyplot as plt\n",
    "from matplotlib import animation\n",
    "from IPython.display import HTML\n",
    "import math"
   ]
  },
  {
   "cell_type": "code",
   "execution_count": null,
   "metadata": {},
   "outputs": [],
   "source": [
    "#initialization\n",
    "n = 50\n",
    "dx = 1/n\n",
    "dt = (dx**2)/4 #this is too make sure that I am working with stable initial conditions with varying n\n",
    "print(f'dt = {dt}')\n",
    "x = np.linspace(0,1,n+1)\n",
    "D = 1\n",
    "print(dt*D/(dx**2)) # if this is under 1 the scheme is stable"
   ]
  },
  {
   "cell_type": "code",
   "execution_count": null,
   "metadata": {},
   "outputs": [],
   "source": [
    "def next_step_1(matrix, dt=dt, dx=dx, D=D):\n",
    "    cons = dt*D/(dx**2)\n",
    "    if cons > 1:\n",
    "        return r\"$\\frac{4\\delta t D}{\\delta x^2} \\geq 1 \\implies$ scheme is unstable\"\n",
    "    else:\n",
    "        n = len(matrix)\n",
    "        next_matrix = np.copy(matrix)\n",
    "        \n",
    "        for j in range (1, n-1):\n",
    "            \n",
    "            # west boundary case where x = 0:\n",
    "            next_matrix[j,0] = matrix[j,0] + cons * (matrix[j,1] + \\\n",
    "            matrix[j,-2] + matrix[j+1,0] + matrix[j-1,0] - 4 * matrix[j,0])\n",
    "\n",
    "            # non-boundary case \n",
    "            for i in range (1, n-1):\n",
    "                next_matrix[j,i] = matrix[j,i] + cons * (matrix[j,i+1] + \\\n",
    "                matrix[j,i-1] + matrix[j+1,i] + matrix[j-1,i] - 4 * matrix[j,i])\n",
    "\n",
    "            # east boundary case where x = n:\n",
    "            next_matrix[j,-1] = matrix[j,-1] + cons * (matrix[j,1] + \\\n",
    "            matrix[j,-2] + matrix[j+1,-1] + matrix[j-1,-1] - 4 * matrix[j,-1])\n",
    "            \n",
    "        return next_matrix"
   ]
  },
  {
   "cell_type": "markdown",
   "metadata": {},
   "source": [
    "The following kernel produces a colorcoded simulation for concentration diffusion based on the above initialized parameters and function for updating our $N \\times N$ domain of intervals of x and y over time. (~ 2m 9.5s run time, feel free to reduce the number of frames if needed - 100 frames = ~14 secs )"
   ]
  },
  {
   "cell_type": "code",
   "execution_count": null,
   "metadata": {},
   "outputs": [],
   "source": [
    "domain = np.zeros((n ,n))\n",
    "domain[0, :] = 1\n",
    "\n",
    "fig, ax = plt.subplots()\n",
    "im = ax.imshow(domain, cmap='hot', animated=True)\n",
    "\n",
    "ax.set_xlabel(fr\"number of intervals $\\delta x$ ({n} here)\")\n",
    "ax.set_ylabel(fr\"number of intervals $\\delta y$ ({n} here)\")\n",
    "ax.set_title(\"Concentration over Time\")\n",
    "\n",
    "def update(frame):\n",
    "    global domain\n",
    "    domain = next_step_1(domain)\n",
    "    im.set_array(domain)\n",
    "    return [im]\n",
    "\n",
    "\n",
    "ani = animation.FuncAnimation(fig, update, frames=1000, interval=50, blit=False)\n",
    "\n",
    "HTML(ani.to_jshtml())"
   ]
  },
  {
   "cell_type": "markdown",
   "metadata": {},
   "source": [
    "In the following kernel, I pull status from my concentration diffusion simulation at intervals 10, 100, 1000, 10000 of times steps $\\delta t = .0001$ and plot them alongside one-another. (run time = ~1m 7.9s) "
   ]
  },
  {
   "cell_type": "code",
   "execution_count": null,
   "metadata": {},
   "outputs": [],
   "source": [
    "#intialize\n",
    "c_y = [] #concentration at y\n",
    "frames_to_save = [10, 100, 1000, 10000]\n",
    "domain = np.zeros((n ,n))\n",
    "domain[0, :] = 1\n",
    "y = [] #y values, tracked for ploting\n",
    "for i in range(n):\n",
    "    y.append(dx*i)\n",
    "dt_ = []\n",
    "\n",
    "#run the diffusion while saving our four cases \n",
    "for i in range(10001):\n",
    "    domain = next_step_1(domain)\n",
    "    if i in frames_to_save:\n",
    "        c_y.append(domain[::-1, 0])\n",
    "        dt_.append(dt * i)\n",
    "\n",
    "#plot the resulting data\n",
    "plt.figure(figsize=(8, 6))\n",
    "\n",
    "for idx, _ in enumerate(frames_to_save):\n",
    "    plt.plot(y, c_y[idx], label=fr\" $\\delta t =${dt_[idx]}\", linestyle='-', marker='o', markersize=3)\n",
    "\n",
    "plt.xlabel(\"y values\")\n",
    "plt.ylabel(\"c(y) values\")\n",
    "plt.title(r\"Concentration spread after $\\delta t$ time steps\")\n",
    "plt.legend()\n",
    "plt.show()"
   ]
  }
 ],
 "metadata": {
  "kernelspec": {
   "display_name": "base",
   "language": "python",
   "name": "python3"
  },
  "language_info": {
   "codemirror_mode": {
    "name": "ipython",
    "version": 3
   },
   "file_extension": ".py",
   "mimetype": "text/x-python",
   "name": "python",
   "nbconvert_exporter": "python",
   "pygments_lexer": "ipython3",
   "version": "3.12.3"
  }
 },
 "nbformat": 4,
 "nbformat_minor": 2
}

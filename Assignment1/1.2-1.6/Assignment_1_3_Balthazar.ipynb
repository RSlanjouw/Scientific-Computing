{
 "cells": [
  {
   "cell_type": "code",
   "execution_count": null,
   "metadata": {},
   "outputs": [],
   "source": [
    "%matplotlib inline\n",
    "\n",
    "import numpy as np\n",
    "import matplotlib.pyplot as plt"
   ]
  },
  {
   "cell_type": "code",
   "execution_count": null,
   "metadata": {},
   "outputs": [],
   "source": [
    "#initialization\n",
    "n = 50\n",
    "dx = 1/n\n",
    "dt = (dx**2)/4 #this is too make sure that dtD/dt*2 = 1/4 over varying n\n",
    "print(f'dt = {dt}')\n",
    "x = np.linspace(0,1,n+1)\n",
    "D = 1"
   ]
  },
  {
   "cell_type": "markdown",
   "metadata": {},
   "source": [
    "Implementation of Jacobi iteration method as an update of our function over the matrix: "
   ]
  },
  {
   "cell_type": "code",
   "execution_count": null,
   "metadata": {},
   "outputs": [],
   "source": [
    "def jacobi(matrix):\n",
    "    n = len(matrix)\n",
    "    next_matrix = np.copy(matrix)\n",
    "        \n",
    "    for j in range (1, n-1):\n",
    "            \n",
    "        # west boundary case where x = 0:\n",
    "        next_matrix[j,0] = 1/4 * (matrix[j,1] + matrix[j,-2] + matrix[j+1,0] + matrix[j-1,0])\n",
    "\n",
    "        # non-boundary case \n",
    "        for i in range (1, n-1):\n",
    "            next_matrix[j,i] = 1/4 * (matrix[j,i+1] + matrix[j,i-1] + matrix[j+1,i] + matrix[j-1,i])\n",
    "\n",
    "        # east boundary case where x = n:\n",
    "        next_matrix[j,-1] = 1/4 * (matrix[j,1] + matrix[j,-2] + matrix[j+1,-1] + matrix[j-1,-1])\n",
    "            \n",
    "    return next_matrix"
   ]
  },
  {
   "cell_type": "code",
   "execution_count": null,
   "metadata": {},
   "outputs": [],
   "source": [
    "#calculating the number of Jacobi iteration needed to achieve stability at error < 10^-5\n",
    "\n",
    "domain = np.zeros((n ,n))\n",
    "domain[0, :] = 1\n",
    "conv = 1\n",
    "iter = 0\n",
    "\n",
    "while conv > 1e-5:\n",
    "    diff = jacobi(domain) - domain \n",
    "    conv = np.max(diff)\n",
    "    domain = jacobi(domain)\n",
    "    iter += 1\n",
    "print(iter)"
   ]
  },
  {
   "cell_type": "markdown",
   "metadata": {},
   "source": [
    "Implementation of Gauss-Seidel iteration method as an update of our function over the matrix: "
   ]
  },
  {
   "cell_type": "code",
   "execution_count": null,
   "metadata": {},
   "outputs": [],
   "source": [
    "def gauss_seidel(matrix):\n",
    "    n = len(matrix)\n",
    "    next_matrix = np.copy(matrix)\n",
    "        \n",
    "    for j in range (1, n-1):\n",
    "            \n",
    "        # west boundary case where x = 0:\n",
    "        next_matrix[j,0] = 1/4 * (matrix[j,1] + matrix[j,-2] + matrix[j+1,0] + next_matrix[j-1,0])\n",
    "\n",
    "        # non-boundary case \n",
    "        for i in range (1, n-1):\n",
    "            next_matrix[j,i] = 1/4 * (matrix[j,i+1] + next_matrix[j,i-1] + matrix[j+1,i] + next_matrix[j-1,i])\n",
    "\n",
    "        # east boundary case where x = n:\n",
    "        next_matrix[j,-1] = 1/4 * (matrix[j,1] + matrix[j,-2] + matrix[j+1,-1] + next_matrix[j-1,-1])\n",
    "            \n",
    "    return next_matrix"
   ]
  },
  {
   "cell_type": "code",
   "execution_count": null,
   "metadata": {},
   "outputs": [],
   "source": [
    "#calculating the number of Gauss Seildel iteration needed to achieve stability at error < 10^-5\n",
    "\n",
    "domain = np.zeros((n ,n))\n",
    "domain[0, :] = 1\n",
    "conv = 1\n",
    "iter = 0\n",
    "\n",
    "while conv > 1e-5:\n",
    "    diff = gauss_seidel(domain) - domain \n",
    "    conv = np.max(diff)\n",
    "    domain = gauss_seidel(domain)\n",
    "    iter += 1\n",
    "print(iter)"
   ]
  },
  {
   "cell_type": "code",
   "execution_count": null,
   "metadata": {},
   "outputs": [],
   "source": [
    "def sor(matrix, w=1.8):\n",
    "    n = len(matrix)\n",
    "    next_matrix = np.copy(matrix)\n",
    "        \n",
    "    for j in range (1, n-1):\n",
    "            \n",
    "        # west boundary case where x = 0:\n",
    "        next_matrix[j,0] = w/4 * (matrix[j,1] + matrix[j,-2] + matrix[j+1,0] + next_matrix[j-1,0]) + (1 - w) * matrix[j, 0]\n",
    "\n",
    "        # non-boundary case \n",
    "        for i in range (1, n-1):\n",
    "            next_matrix[j,i] = w/4 * (matrix[j,i+1] + next_matrix[j,i-1] + matrix[j+1,i] + next_matrix[j-1,i]) + (1 - w) * matrix[j, i]\n",
    "\n",
    "        # east boundary case where x = n:\n",
    "        next_matrix[j,-1] = w/4 * (matrix[j,1] + matrix[j,-2] + matrix[j+1,-1] + next_matrix[j-1,-1]) + (1 - w) * matrix[j, -1]\n",
    "            \n",
    "    return next_matrix"
   ]
  },
  {
   "cell_type": "code",
   "execution_count": null,
   "metadata": {},
   "outputs": [],
   "source": [
    "#calculating the number of Gauss Seildel iteration needed to achieve stability at error < 10^-5\n",
    "\n",
    "domain = np.zeros((n ,n))\n",
    "domain[0, :] = 1\n",
    "conv = 1\n",
    "iter = 0\n",
    "\n",
    "while conv > 1e-5:\n",
    "    iter += 1\n",
    "    diff = sor(domain) - domain \n",
    "    conv = np.max(diff)\n",
    "    domain = sor(domain)\n",
    "print(iter)"
   ]
  },
  {
   "cell_type": "markdown",
   "metadata": {},
   "source": [
    "the following kernel tracks how many iterations our needed for each method to achieve a certain threshold of precision towards a stable state in our system. I ran it for n_threshold = 10 --> **7min**, for n_threshold = 5 --> **50sec**"
   ]
  },
  {
   "cell_type": "code",
   "execution_count": null,
   "metadata": {},
   "outputs": [],
   "source": [
    "domain_j = np.zeros((n ,n))\n",
    "domain_j[0, :] = 1\n",
    "domain_gs = domain_s = np.copy(domain_j)\n",
    "\n",
    "# Initialize counters of iterations and convergence tracking for jacobi and GS seperately\n",
    "conv_j = 1\n",
    "conv_gs = 1\n",
    "conv_s = 1\n",
    "iter_j = 0\n",
    "iter_gs = 0\n",
    "iter_s = 0\n",
    "\n",
    "# Define the threshold values we want to track our convergence for  \n",
    "n_threshold = 5\n",
    "threshold_j = np.array([10**-i for i in np.linspace(1, n_threshold, n_threshold * 4)])\n",
    "threshold_gs = np.copy(threshold_j)\n",
    "threshold_s = np.copy(threshold_j)\n",
    "threshold = np.copy(threshold_j)\n",
    "\n",
    "# lists to save our required iterations per threshold\n",
    "jacobi_iter = []\n",
    "gauss_seidel_iter = []\n",
    "sor_iter = []\n",
    "'''\n",
    "This runs both Jacobi, Gauss Seidel, Successive over Relaxation method and tracks when they stabilize under a certain threshold\n",
    "i.e. |M^k+1 - M^k| < threshold\n",
    "'''\n",
    "# save number iterations needed for jacobi to reach our thresholds of precision\n",
    "\n",
    "while threshold_j.size > 0:\n",
    "    iter_j += 1\n",
    "    diff_j = jacobi(domain_j) - domain_j \n",
    "    conv_j = np.max(diff_j)\n",
    "    if conv_j < threshold_j[0]:\n",
    "        jacobi_iter.append(iter_j)\n",
    "        threshold_j = threshold_j[1:]\n",
    "    domain_j = jacobi(domain_j)\n",
    "\n",
    "# save number iterations needed for gauss seidel to reach our thresholds of precision\n",
    "\n",
    "while threshold_gs.size > 0:\n",
    "    iter_gs += 1\n",
    "    diff_gs = gauss_seidel(domain_gs) - domain_gs \n",
    "    conv_gs = np.max(diff_gs)\n",
    "    if conv_gs < threshold_gs[0]:\n",
    "        gauss_seidel_iter.append(iter_gs)\n",
    "        threshold_gs = threshold_gs[1:]\n",
    "    domain_gs = gauss_seidel(domain_gs)\n",
    "\n",
    "# save number iterations needed for successive over Relaxation to reach our thresholds of precision\n",
    "\n",
    "while threshold_s.size > 0:\n",
    "    iter_s += 1\n",
    "    diff_s = sor(domain_s) - domain_s \n",
    "    conv_s = np.max(diff_s)\n",
    "    if conv_s < threshold_s[0]:\n",
    "        sor_iter.append(iter_s)\n",
    "        threshold_s = threshold_s[1:]\n",
    "    domain_s = sor(domain_s)"
   ]
  },
  {
   "cell_type": "markdown",
   "metadata": {},
   "source": [
    "Once computed, we plot the number of iterations needed for each threshold per method and compare"
   ]
  },
  {
   "cell_type": "code",
   "execution_count": null,
   "metadata": {},
   "outputs": [],
   "source": [
    "plt.figure(figsize=(10,6))\n",
    "plt.semilogx(threshold, jacobi_iter, label='Jacobi Iteration', linestyle='-', marker='o', markersize=5)\n",
    "plt.semilogx(threshold, gauss_seidel_iter, label='Gauss-Seidel Iteration', linestyle='-', marker='<', markersize=6)\n",
    "plt.semilogx(threshold, sor_iter, label='SOR Iteration', linestyle='-', marker='^', markersize=6)\n",
    "plt.xlim(2 * max(threshold), 1/2 * min(threshold))  # Reverse the x-axis\n",
    "plt.xlabel('Threshold (log)')\n",
    "plt.ylabel(\"Number of Iterations required\")\n",
    "plt.title(\"Convergence Efficiency of Jacobi vs Gauss Seidel vs SOR\")\n",
    "plt.legend()\n",
    "plt.savefig(\"conv_eff_sc_set1.png\", dpi = 300)\n",
    "plt.show()"
   ]
  },
  {
   "cell_type": "markdown",
   "metadata": {},
   "source": [
    "The following kernel tests how SOR convergence performs past the threshold of 1e-15: it takes about **15min** to run. While 1868 iterations are enough to bypass the 1e-15 threshold, 100000 aren't enough to bypass 1e-16 which is much higher than the Jacobi and Gauss Seidel iterations needed to pass 1e-16."
   ]
  },
  {
   "cell_type": "code",
   "execution_count": null,
   "metadata": {},
   "outputs": [],
   "source": [
    "%%time\n",
    "\n",
    "domain = np.zeros((n ,n))\n",
    "domain[0, :] = 1\n",
    "conv = 1\n",
    "iter = 0\n",
    "\n",
    "while conv > 1e-15:\n",
    "    iter += 1\n",
    "    diff = sor(domain) - domain \n",
    "    conv = np.max(diff)\n",
    "    domain = sor(domain)\n",
    "print(conv, iter)\n",
    "\n",
    "while conv > 1e-16 and iter < 100000:\n",
    "    iter += 1\n",
    "    diff = sor(domain) - domain \n",
    "    conv = np.max(diff)\n",
    "    domain = sor(domain)\n",
    "print(conv, iter)"
   ]
  }
 ],
 "metadata": {
  "kernelspec": {
   "display_name": "base",
   "language": "python",
   "name": "python3"
  },
  "language_info": {
   "codemirror_mode": {
    "name": "ipython",
    "version": 3
   },
   "file_extension": ".py",
   "mimetype": "text/x-python",
   "name": "python",
   "nbconvert_exporter": "python",
   "pygments_lexer": "ipython3",
   "version": "3.12.3"
  }
 },
 "nbformat": 4,
 "nbformat_minor": 2
}

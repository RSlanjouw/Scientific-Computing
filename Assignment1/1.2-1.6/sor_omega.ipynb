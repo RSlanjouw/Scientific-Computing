{
 "cells": [
  {
   "cell_type": "code",
   "execution_count": null,
   "metadata": {},
   "outputs": [],
   "source": [
    "import numpy as np\n",
    "import matplotlib.pyplot as plt\n",
    "from scipy.optimize import minimize_scalar\n",
    "import sys\n",
    "sys.path.append('modules')  \n",
    "from functions import SOR_Eq_TOL\n",
    "#from modules.functions import SOR_Eq_TOL "
   ]
  },
  {
   "cell_type": "code",
   "execution_count": null,
   "metadata": {},
   "outputs": [],
   "source": [
    "n_values = [10, 30, 50,70,90, 100, 200]\n",
    "optimal_omega = []\n",
    "iterations_needed = []\n",
    "\n",
    "tol = 1e-5  # tolerance"
   ]
  },
  {
   "cell_type": "code",
   "execution_count": null,
   "metadata": {},
   "outputs": [],
   "source": [
    "'''\n",
    "n = 50\n",
    "matrix = np.zeros((n, n))\n",
    "matrix[0] = 1\n",
    "matrix[-1] = 0\n",
    "\n",
    "omega_values = np.linspace(0.001, 1.999, 8) \n",
    "tol_values = np.logspace(-1, -6, 6)  # tolerance\n",
    "\n",
    "iterations = np.zeros((8, 6))\n",
    "\n",
    "\n",
    "for i, omega in enumerate(omega_values):\n",
    "    print(f\"Omega = {omega:.4f}\")\n",
    "    for j, tol in enumerate(tol_values):\n",
    "        iterations[i, j] = SOR_Eq_TOL(matrix, tol, omega)\n",
    "\n",
    "np.save(\"data/omega_values.npy\", omega_values)\n",
    "np.save(\"data/tol_values.npy\", tol_values)\n",
    "np.save(\"data/iterations.npy\", iterations)\n",
    "\n",
    "for i in range(8):\n",
    "    plt.plot(tol_values, iterations[i], label=f\"Omega = {omega_values[i]}\")\n",
    "plt.xlabel(\"Tolerance\")\n",
    "plt.ylabel(\"Iterations\")\n",
    "plt.yscale(\"log\")\n",
    "plt.xscale(\"log\")\n",
    "plt.legend()\n",
    "plt.title(\"Iterations needed for different omega values\")\n",
    "plt.show()\n",
    "'''"
   ]
  },
  {
   "cell_type": "code",
   "execution_count": null,
   "metadata": {},
   "outputs": [],
   "source": [
    "for n in n_values:\n",
    "    matrix = np.zeros((n, n))\n",
    "    matrix[0] = 1\n",
    "    matrix[-1] = 0\n",
    "\n",
    "    def f(omega):\n",
    "        return SOR_Eq_TOL(matrix, tol, omega)\n",
    "\n",
    "    # scipy minimize_scalar, should be faster\n",
    "    result = minimize_scalar(f, bounds=(1, 2), method='bounded')\n",
    "\n",
    "    best_omega = result.x\n",
    "    min_iterations = result.fun \n",
    "\n",
    "    # save\n",
    "    optimal_omega.append(best_omega)\n",
    "    iterations_needed.append(min_iterations)\n",
    "\n",
    "    print(f\"n = {n}, Optimal omega = {best_omega:.4f}, Iterations = {min_iterations:.0f}\")"
   ]
  },
  {
   "cell_type": "code",
   "execution_count": null,
   "metadata": {},
   "outputs": [],
   "source": [
    "np.save(\"optimal_omega.npy\", optimal_omega)\n",
    "np.save(\"iterations_optimal.npy\", iterations_needed)\n",
    "np.save(\"n_values.npy\", n_values)\n",
    "\n",
    "\n",
    "plt.figure(figsize=(8, 5))\n",
    "plt.plot(n_values, optimal_omega, marker=\"o\", linestyle=\"-\", color=\"b\")\n",
    "plt.xlabel(\"Matrix Size (n)\")\n",
    "plt.ylabel(\"Optimal ω Value\")\n",
    "plt.title(\"Optimal ω vs. Matrix Size\")\n",
    "plt.grid()\n",
    "plt.show()"
   ]
  },
  {
   "cell_type": "code",
   "execution_count": null,
   "metadata": {},
   "outputs": [],
   "source": []
  }
 ],
 "metadata": {
  "kernelspec": {
   "display_name": "Python 3",
   "language": "python",
   "name": "python3"
  },
  "language_info": {
   "codemirror_mode": {
    "name": "ipython",
    "version": 3
   },
   "file_extension": ".py",
   "mimetype": "text/x-python",
   "name": "python",
   "nbconvert_exporter": "python",
   "pygments_lexer": "ipython3",
   "version": "3.10.11"
  }
 },
 "nbformat": 4,
 "nbformat_minor": 2
}

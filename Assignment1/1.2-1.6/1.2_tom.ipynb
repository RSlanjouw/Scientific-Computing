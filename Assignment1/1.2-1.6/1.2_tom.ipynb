{
 "cells": [
  {
   "cell_type": "code",
   "execution_count": null,
   "metadata": {},
   "outputs": [],
   "source": [
    "import numpy as np\n",
    "import matplotlib.pyplot as plt\n",
    "from matplotlib import animation\n",
    "from scipy.special import erfc\n",
    "from IPython.display import HTML, display\n",
    "import math\n",
    "\n",
    "%matplotlib notebook\n"
   ]
  },
  {
   "cell_type": "code",
   "execution_count": null,
   "metadata": {},
   "outputs": [],
   "source": [
    "n = 50\n",
    "dx = 1.0 / n\n",
    "dt = (dx**2) / 4\n",
    "D = 1.0\n",
    "x = np.linspace(0, 1, n+1)\n",
    "y = np.linspace(0, 1, n+1)\n",
    "\n",
    "print(f\"dt = {dt}, Stability check: {dt * D / (dx**2)}\")"
   ]
  },
  {
   "cell_type": "code",
   "execution_count": null,
   "metadata": {},
   "outputs": [],
   "source": [
    "def next_step(c, dt=dt, dx=dx, D=D):\n",
    "    cons = dt * D / (dx**2)\n",
    "    \n",
    "    if cons > 1:\n",
    "        raise ValueError(\"Time step too large! The scheme is unstable.\")\n",
    "    \n",
    "    n = len(c)\n",
    "    c_new = np.copy(c)\n",
    "\n",
    "    for j in range(1, n-1):\n",
    "        # West boundary (x = 0)\n",
    "        c_new[j, 0] = c[j, 0] + cons * (\n",
    "            c[j, 1] + c[j, -2] + c[j+1, 0] + c[j-1, 0] - 4 * c[j, 0]\n",
    "        )\n",
    "\n",
    "        # Interior points\n",
    "        for i in range(1, n-1):\n",
    "            c_new[j, i] = c[j, i] + cons * (\n",
    "                c[j, i+1] + c[j, i-1] + c[j+1, i] + c[j-1, i] - 4 * c[j, i]\n",
    "            )\n",
    "\n",
    "        # East boundary (x = n)\n",
    "        c_new[j, -1] = c[j, -1] + cons * (\n",
    "            c[j, 1] + c[j, -2] + c[j+1, -1] + c[j-1, -1] - 4 * c[j, -1]\n",
    "        )\n",
    "\n",
    "\n",
    "    return c_new\n"
   ]
  },
  {
   "cell_type": "code",
   "execution_count": null,
   "metadata": {},
   "outputs": [],
   "source": [
    "c = np.zeros((n, n))\n",
    "c[0, :] = 1  # top boundary\n",
    "c[-1, :] = 0  # bottom boundary\n",
    "\n",
    "\n",
    "fig, ax = plt.subplots()\n",
    "im = ax.imshow(c, cmap=\"hot\", animated=True)\n",
    "\n",
    "ax.set_xlabel(fr\"Intervals $\\delta x$ ({n} here)\")\n",
    "ax.set_ylabel(fr\"Intervals $\\delta y$ ({n} here)\")\n",
    "ax.set_title(\"Concentration Diffusion Over Time\")\n",
    "\n",
    "def update(frame):\n",
    "    global c\n",
    "    c = next_step(c)\n",
    "    im.set_array(c)\n",
    "    return [im]\n",
    "\n",
    "ani = animation.FuncAnimation(fig, update, frames=1000, interval=50, blit=False)\n",
    "display(HTML(ani.to_jshtml()))\n"
   ]
  },
  {
   "cell_type": "code",
   "execution_count": null,
   "metadata": {},
   "outputs": [],
   "source": [
    "%matplotlib inline\n",
    "\n",
    "\n",
    "plt.figure(figsize=(8, 6))\n",
    "\n",
    "# numerical \n",
    "for idx, _ in enumerate(frames_to_save):\n",
    "    plt.plot(y_vals, c_y[idx], label=f\"Simulation (t={dt_values[idx]})\", linestyle=\"-\", marker=\"o\", markersize=3)\n",
    "\n",
    "# analytical\n",
    "for t_idx, t in enumerate(frames_to_save):\n",
    "    c_analytic = []\n",
    "    for y in y_vals:\n",
    "        c_t = sum([\n",
    "            erfc((1 - y + 2 * i) / (2 * np.sqrt(D * dt_values[t_idx]))) - \n",
    "            erfc((1 + y + 2 * i) / (2 * np.sqrt(D * dt_values[t_idx])))\n",
    "            for i in range(50) # for 50 terms, can change\n",
    "        ])\n",
    "        c_analytic.append(c_t)\n",
    "\n",
    "    plt.plot(y_vals, c_analytic, label=f\"Analytical (t={dt_values[t_idx]})\", linestyle=\"dashed\")\n",
    "\n",
    "plt.xlabel(\"y values\")\n",
    "plt.ylabel(\"c(y) values\")\n",
    "plt.title(\"Comparison: Simulation vs. Analytical\")\n",
    "plt.legend()\n",
    "plt.show()\n"
   ]
  }
 ],
 "metadata": {
  "kernelspec": {
   "display_name": "Python 3",
   "language": "python",
   "name": "python3"
  },
  "language_info": {
   "codemirror_mode": {
    "name": "ipython",
    "version": 3
   },
   "file_extension": ".py",
   "mimetype": "text/x-python",
   "name": "python",
   "nbconvert_exporter": "python",
   "pygments_lexer": "ipython3",
   "version": "3.12.0"
  }
 },
 "nbformat": 4,
 "nbformat_minor": 2
}

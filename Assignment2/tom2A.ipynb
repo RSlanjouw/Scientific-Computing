{
 "cells": [
  {
   "cell_type": "markdown",
   "metadata": {},
   "source": [
    "Diffusion Limited Aggregation (DLA)\n",
    "\n",
    "* growth model based on diffusing particles\n",
    "* started with a single seed\n",
    "* can be modeled by \n",
    "    * solving the time independent diffusion equation (Laplace equation)\n",
    "    * locating growth candidates around the cluster (north, south, east, west)\n",
    "    * assigning a growth probability $p_{g}$ for each growth candidate as a function of the concentration of diffusing nutrients at that growth location\n",
    "    \n",
    "        $p_{g}(i,j) = c^{\\eta}_{i,j}/\\sum _{growth candidates} c^{\\eta}_{i,j}$\n",
    "\n",
    "        where $c_{i,j}$ is the concentration at site $(i,j)$\n",
    "        \n",
    "        $\\eta$ controls the shape of the DLA cluster:\n",
    "            \n",
    "        $\\eta = 1$ : Standard DLA cluster (branching)\n",
    "\n",
    "        $\\eta < 1$ : More compact ($\\eta = 0$ resulting in eden cluster)\n",
    "        \n",
    "        $\\eta > 1$ : More branched\n",
    "\n",
    "\n",
    "    * selective a single growth candidate with probability $p_{g}$ and adding it to the cluster\n",
    "    * re-solving the diffusion equation and repeating the process for the growth steps"
   ]
  },
  {
   "cell_type": "code",
   "execution_count": 1,
   "metadata": {},
   "outputs": [
    {
     "name": "stdout",
     "output_type": "stream",
     "text": [
      "Note: you may need to restart the kernel to use updated packages.Collecting numba\n",
      "  Downloading numba-0.61.0-cp311-cp311-win_amd64.whl.metadata (2.8 kB)\n",
      "Collecting llvmlite<0.45,>=0.44.0dev0 (from numba)\n",
      "  Downloading llvmlite-0.44.0-cp311-cp311-win_amd64.whl.metadata (5.0 kB)\n",
      "Requirement already satisfied: numpy<2.2,>=1.24 in c:\\users\\thomas\\appdata\\local\\programs\\python\\python311\\lib\\site-packages (from numba) (1.24.3)\n",
      "Downloading numba-0.61.0-cp311-cp311-win_amd64.whl (2.8 MB)\n",
      "   ---------------------------------------- 0.0/2.8 MB ? eta -:--:--\n",
      "   ------- -------------------------------- 0.5/2.8 MB 3.3 MB/s eta 0:00:01\n",
      "   ---------------------- ----------------- 1.6/2.8 MB 4.2 MB/s eta 0:00:01\n",
      "   ------------------------------------- -- 2.6/2.8 MB 4.9 MB/s eta 0:00:01\n",
      "   ---------------------------------------- 2.8/2.8 MB 4.7 MB/s eta 0:00:00\n",
      "Downloading llvmlite-0.44.0-cp311-cp311-win_amd64.whl (30.3 MB)\n",
      "   ---------------------------------------- 0.0/30.3 MB ? eta -:--:--\n",
      "   -- ------------------------------------- 1.6/30.3 MB 7.6 MB/s eta 0:00:04\n",
      "   ---- ----------------------------------- 3.4/30.3 MB 8.0 MB/s eta 0:00:04\n",
      "   ------- -------------------------------- 5.5/30.3 MB 8.8 MB/s eta 0:00:03\n",
      "   ---------- ----------------------------- 7.9/30.3 MB 9.5 MB/s eta 0:00:03\n",
      "   ------------- -------------------------- 10.5/30.3 MB 10.1 MB/s eta 0:00:02\n",
      "   ----------------- ---------------------- 13.4/30.3 MB 10.6 MB/s eta 0:00:02\n",
      "   --------------------- ------------------ 16.0/30.3 MB 10.8 MB/s eta 0:00:02\n",
      "   ------------------------ --------------- 18.4/30.3 MB 10.9 MB/s eta 0:00:02\n",
      "   --------------------------- ------------ 21.0/30.3 MB 11.0 MB/s eta 0:00:01\n",
      "   ------------------------------- -------- 23.6/30.3 MB 11.2 MB/s eta 0:00:01\n",
      "   ---------------------------------- ----- 26.2/30.3 MB 11.3 MB/s eta 0:00:01\n",
      "   -------------------------------------- - 28.8/30.3 MB 11.4 MB/s eta 0:00:01\n",
      "   ---------------------------------------  30.1/30.3 MB 11.4 MB/s eta 0:00:01\n",
      "   ---------------------------------------- 30.3/30.3 MB 10.6 MB/s eta 0:00:00\n",
      "Installing collected packages: llvmlite, numba\n",
      "Successfully installed llvmlite-0.44.0 numba-0.61.0\n",
      "\n"
     ]
    },
    {
     "name": "stderr",
     "output_type": "stream",
     "text": [
      "\n",
      "[notice] A new release of pip is available: 24.3.1 -> 25.0.1\n",
      "[notice] To update, run: python.exe -m pip install --upgrade pip\n"
     ]
    }
   ],
   "source": [
    "%pip install numba"
   ]
  },
  {
   "cell_type": "code",
   "execution_count": 2,
   "metadata": {},
   "outputs": [],
   "source": [
    "import numpy as np\n",
    "import matplotlib.pyplot as plt\n",
    "from scipy.ndimage import convolve\n",
    "from scipy.optimize import minimize_scalar\n",
    "from numba import njit"
   ]
  },
  {
   "cell_type": "code",
   "execution_count": 7,
   "metadata": {},
   "outputs": [],
   "source": [
    "# params\n",
    "size = 100\n",
    "eta = 1\n",
    "omega = 1.9\n",
    "tolerance = 1e-5\n",
    "iterations = 100\n",
    "steps = 1000\n",
    "\n",
    "# grid\n",
    "concentration = np.linspace(1, 0, size).reshape(-1, 1) * np.ones((size, size))\n",
    "cluster = np.zeros((size, size), dtype=int)\n",
    "cluster[-1, size // 2] = 1 # one seed, middle of bottom row"
   ]
  },
  {
   "cell_type": "markdown",
   "metadata": {},
   "source": [
    "The Laplacian operator $\\nabla^2$ in two dimensions is defined as:\n",
    "\n",
    "$\\nabla^2 c = \\frac{\\partial^2 c}{\\partial x^2} + \\frac{\\partial^2 c}{\\partial y^2}$\n",
    "\n",
    "For a 2D grid, this can be approximated using finite differences as:\n",
    "\n",
    "$\\nabla^2 c_{i,j} \\approx c_{i+1,j} + c_{i-1,j} + c_{i,j+1} + c_{i,j-1} - 4c_{i,j}$\n",
    "\n",
    "This formula tells us that each point in the grid is updated based on its four neighbors\n",
    "\n",
    "\n",
    "The 5-point stencil can be written as a matrix (convolution kernel):\n",
    "\n",
    "$$\n",
    "\\begin{bmatrix}\n",
    "  0 &  1 &  0 \\\\\n",
    "  1 & -4 &  1 \\\\\n",
    "  0 &  1 &  0\n",
    "\\end{bmatrix}\n",
    "$$\n"
   ]
  },
  {
   "cell_type": "code",
   "execution_count": null,
   "metadata": {},
   "outputs": [],
   "source": [
    "# functions\n",
    "#@njit   \n",
    "def solve_sor(concentration, cluster, omega, tolerance, iterations):    # initialises laplacian kernel, updates concentration using sor either until max iterations or change is less than tolerance\n",
    "    laplacian_kernel = np.array([[0, 1, 0], [1, -4, 1],[0, 1, 0]])\n",
    "    \n",
    "    for _ in range(iterations):\n",
    "        old_concentration = concentration.copy()\n",
    "        residual = convolve(concentration, laplacian_kernel, mode='constant')  # this is not compatible with numba\n",
    "        \n",
    "        concentration[cluster ==0] += omega * residual[cluster ==0] / 4 # sor update\n",
    "        \n",
    "        if np.linalg.norm(concentration - old_concentration) < tolerance:\n",
    "            break\n",
    "    return concentration\n",
    "\n",
    "\n",
    "def find_growth(cluster):   # finds possible growth, NSEW nieghbours of cluster\n",
    "    padded_cluster = np.pad(cluster, 1, mode='constant') # avoid out of bounds\n",
    "    candidates = np.zeros_like(padded_cluster)\n",
    "    neighbours = [(0, 1), (1, 0), (0, -1), (-1, 0)] # north, east, south, west\n",
    "    \n",
    "    cluster_shape = cluster.shape\n",
    "    result_slice = (slice(1, 1 + cluster_shape[0]), slice(1, 1 + cluster_shape[1]))\n",
    "   \n",
    "    for dx, dy in neighbours:\n",
    "        # dynamic slices for looking at neighbors\n",
    "        neighbour_x = slice(1 + dx, 1 + dx + cluster_shape[0])\n",
    "        neighbour_y = slice(1 + dy, 1 + dy + cluster_shape[1])\n",
    "        \n",
    "       \n",
    "        neighbour_cluster = padded_cluster[neighbour_x, neighbour_y] == 1   # neighbor cells that are in the cluster\n",
    "        empty = padded_cluster[result_slice] == 0   # empty cell\n",
    "        \n",
    "        candidates[result_slice] |= neighbour_cluster & empty # candidate where empty and has neighbour\n",
    "    \n",
    "        \n",
    "    return np.argwhere(candidates[result_slice])  # remove padding\n",
    "\n",
    "        \n",
    "def compute_growth_probabilities(concentration, candidates, eta):\n",
    "    candidate_concentrations = np.maximum(concentration[candidates[:, 0], candidates[:, 1]], 1e-10)  # Prevent zero values\n",
    "    weighted_concentrations = candidate_concentrations ** eta\n",
    "    sum_weighted = np.sum(weighted_concentrations)\n",
    "\n",
    "    return weighted_concentrations / sum_weighted if sum_weighted > 1e-10 else np.full(len(candidates), 1 / len(candidates))\n",
    "\n",
    "\n",
    "def simulation(cluster, concentration, steps, eta, omega):\n",
    "    for _ in range(steps):\n",
    "        concentration = solve_sor(concentration, cluster, omega, tolerance, iterations)\n",
    "\n",
    "        candidates = find_growth(cluster)\n",
    "        if len(candidates) == 0:    # no more candidates\n",
    "            break\n",
    "\n",
    "        probability = compute_growth_probabilities(concentration, candidates, eta)\n",
    "\n",
    "        index = np.random.choice(len(candidates), p=probability) # choose candidate based on probability\n",
    "        x, y = candidates[index]\n",
    "\n",
    "        cluster[x, y] = 1\n",
    "\n",
    "    return cluster, concentration\n"
   ]
  },
  {
   "cell_type": "code",
   "execution_count": 9,
   "metadata": {},
   "outputs": [
    {
     "name": "stderr",
     "output_type": "stream",
     "text": [
      "C:\\Users\\Thomas\\AppData\\Local\\Temp\\ipykernel_34952\\2932858521.py:10: RuntimeWarning: overflow encountered in multiply\n",
      "  concentration[cluster ==0] += omega * residual[cluster ==0] / 4 # sor update\n",
      "C:\\Users\\Thomas\\AppData\\Local\\Temp\\ipykernel_34952\\2932858521.py:10: RuntimeWarning: invalid value encountered in add\n",
      "  concentration[cluster ==0] += omega * residual[cluster ==0] / 4 # sor update\n"
     ]
    },
    {
     "data": {
      "image/png": "[encoded data removed]",
      "text/plain": [
       "<Figure size 600x600 with 1 Axes>"
      ]
     },
     "metadata": {},
     "output_type": "display_data"
    }
   ],
   "source": [
    "simulation(cluster, concentration, steps, eta, omega)\n",
    "plt.figure(figsize=(6,6))\n",
    "plt.imshow(cluster, cmap='gray', origin='lower')\n",
    "plt.title(\"Diffusion Limited Aggregation (DLA)\")\n",
    "plt.axis('off')\n",
    "plt.show()"
   ]
  },
  {
   "cell_type": "markdown",
   "metadata": {},
   "source": [
    "something fucked up here ? ?"
   ]
  }
 ],
 "metadata": {
  "kernelspec": {
   "display_name": "Python 3",
   "language": "python",
   "name": "python3"
  },
  "language_info": {
   "codemirror_mode": {
    "name": "ipython",
    "version": 3
   },
   "file_extension": ".py",
   "mimetype": "text/x-python",
   "name": "python",
   "nbconvert_exporter": "python",
   "pygments_lexer": "ipython3",
   "version": "3.11.3"
  }
 },
 "nbformat": 4,
 "nbformat_minor": 2
}

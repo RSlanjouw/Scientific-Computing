{
 "cells": [
  {
   "cell_type": "markdown",
   "metadata": {},
   "source": [
    "In this notebook you will find our results for section **2.2 Monte Carlo simulation of DLA**: 2 functions, 3 results in plots"
   ]
  },
  {
   "cell_type": "code",
   "execution_count": null,
   "metadata": {},
   "outputs": [],
   "source": [
    "import numpy as np\n",
    "import matplotlib.pyplot as plt\n",
    "from numba import njit"
   ]
  },
  {
   "cell_type": "code",
   "execution_count": null,
   "metadata": {},
   "outputs": [],
   "source": [
    "@njit\n",
    "def stick(domain, n):\n",
    "    '''\n",
    "    This is my update version of Monte Carlo DLA model. if you looked at the previous ones you will know that tried using classes,\n",
    "    then tracking the particle as a 1 value in my domain until it sticks. All those attempts where unsuccessful or very inefficient.\n",
    "    Here I directly look for where the particule will stick to the existing cluster without bothering to track where the particle wonders.\n",
    "\n",
    "    I create a top point and update it until it has a neighbor in the cluster (=2) then stop.\n",
    "    '''\n",
    "\n",
    "    #generate a particle\n",
    "    angle = 2 * np.pi * np.random.rand()  \n",
    "    y = int(n//2 + (n//3) * np.sin(angle))\n",
    "    x = 0\n",
    "\n",
    "    while True: \n",
    "\n",
    "        step = np.random.randint(4)  \n",
    "        if step == 0:\n",
    "            x_new, y_new = x - 1, y  # going up\n",
    "        elif step == 1:\n",
    "            x_new, y_new = x, y + 1  # going right\n",
    "        elif step == 2:\n",
    "            x_new, y_new = x + 1, y  # going down\n",
    "        else:\n",
    "            x_new, y_new = x, y - 1  # going left\n",
    "\n",
    "        if x_new <= 0 or x_new >= n-1:\n",
    "            return  # Particle leaves domain\n",
    "        if y_new < 0:\n",
    "            y_new = n-1\n",
    "        if y_new > n-1:\n",
    "            y_new = 0\n",
    "\n",
    "        # if neighbor is part of the cluster then particle joins the cluster:\n",
    "        if (domain[x_new+1, y_new] == 1 or domain[x_new, y_new+1] == 1 or\n",
    "            domain[x_new-1, y_new] == 1 or domain[x_new, y_new-1] == 1):\n",
    "            domain[x_new, y_new] = 1\n",
    "            return\n",
    "        \n",
    "        x, y = x_new, y_new"
   ]
  },
  {
   "cell_type": "code",
   "execution_count": null,
   "metadata": {},
   "outputs": [],
   "source": [
    "@njit\n",
    "def stick_stoch(domain, n, p):\n",
    "    '''\n",
    "    Same function but only sticks with probability p\n",
    "    '''\n",
    "    #generate a particle\n",
    "    angle = 2 * np.pi * np.random.random()  \n",
    "    y = int(n//2 + (n//3) * np.sin(angle))\n",
    "    x = 0\n",
    "\n",
    "    while True: \n",
    "        \n",
    "        dir = np.random.randint(4)  \n",
    "        if dir == 0:\n",
    "            x_new, y_new = x - 1, y  # going up\n",
    "        elif dir == 1:\n",
    "            x_new, y_new = x, y + 1  # going right\n",
    "        elif dir == 2:\n",
    "            x_new, y_new = x + 1, y  # going down\n",
    "        else:\n",
    "            x_new, y_new = x, y - 1  # going left\n",
    "\n",
    "        if x_new <= 0 or x_new >= n-1:\n",
    "            return  # Particle leaves domain\n",
    "        if y_new < 0:\n",
    "            y_new = n-1\n",
    "        if y_new > n-1:\n",
    "            y_new = 0\n",
    "\n",
    "        if domain[x_new, y_new] == 1:\n",
    "            continue\n",
    "            #restart with new 'dir'\n",
    "\n",
    "        # if neighbor is part of the cluster then particle joins the cluster:\n",
    "        if (domain[(x_new + 1) % n, y_new] == 1 or\n",
    "            domain[x_new, (y_new + 1) % n] == 1 or\n",
    "            domain[(x_new - 1) % n, y_new] == 1 or\n",
    "            domain[x_new, (y_new - 1) % n] == 1) and p > np.random.random():\n",
    "            domain[x_new, y_new] = 1\n",
    "            return\n",
    "            \n",
    "        x, y = x_new, y_new"
   ]
  },
  {
   "cell_type": "code",
   "execution_count": null,
   "metadata": {},
   "outputs": [],
   "source": [
    "n = 100 # size of domain\n",
    "cluster_size = 400 # size of cluster"
   ]
  },
  {
   "cell_type": "markdown",
   "metadata": {},
   "source": [
    "The following kernel plots our Monte Carlo DLA model with deffinitive aggregation when a particle touches the cluster."
   ]
  },
  {
   "cell_type": "code",
   "execution_count": null,
   "metadata": {},
   "outputs": [],
   "source": [
    "domain = np.zeros((n, n), dtype=np.uint8)\n",
    "domain[-1, n//2] = 1\n",
    "\n",
    "while np.sum(domain != 0) < cluster_size:\n",
    "    stick(domain, n)\n",
    "\n",
    "im = plt.imshow(domain, interpolation='nearest')\n",
    "plt.xlabel(f\"x ({n})\")\n",
    "plt.ylabel(f\"y ({n})\")\n",
    "plt.title(fr\"Diffusion Limited Aggregation by Monte Carlo, cluster of {cluster_size} particles\")\n",
    "#plt.savefig(\"dla_set2_2B_MC.png\", dpi = 300)\n",
    "plt.show()"
   ]
  },
  {
   "cell_type": "markdown",
   "metadata": {},
   "source": [
    "The following plots are runs of our MC DLA model for different probabilities for aggregation *p*, varying from $0.1$ to $0.9$. We use this to extrapolate a change in density of the cluster depending on this probability. "
   ]
  },
  {
   "cell_type": "code",
   "execution_count": null,
   "metadata": {},
   "outputs": [],
   "source": [
    "probs = np.linspace(0.1, 0.9, 9)  # probabilities to test\n",
    "fig, axes = plt.subplots(3, 3, figsize=(15, 15))\n",
    "\n",
    "\n",
    "for i, p in enumerate(probs):\n",
    "    domain = np.zeros((n, n))\n",
    "    domain[-1, n//2] = 1 \n",
    "\n",
    "    while np.sum(domain != 0) < cluster_size:\n",
    "        stick_stoch(domain, n, p)\n",
    "\n",
    "    ax = axes.flat[i] \n",
    "    ax.imshow(domain, cmap=\"viridis\") \n",
    "    ax.set_xlabel(f\"x ({n})\")\n",
    "    ax.set_ylabel(f\"y ({n})\")\n",
    "    ax.set_title(f\"Probability to stick = {p:.1f}\")\n",
    "\n",
    "plt.tight_layout()\n",
    "#plt.savefig(\"dla_set2_2B_MC_stoch_prob.png\", dpi=300)\n",
    "plt.show()"
   ]
  },
  {
   "cell_type": "code",
   "execution_count": null,
   "metadata": {},
   "outputs": [],
   "source": []
  }
 ],
 "metadata": {
  "kernelspec": {
   "display_name": "base",
   "language": "python",
   "name": "python3"
  },
  "language_info": {
   "codemirror_mode": {
    "name": "ipython",
    "version": 3
   },
   "file_extension": ".py",
   "mimetype": "text/x-python",
   "name": "python",
   "nbconvert_exporter": "python",
   "pygments_lexer": "ipython3",
   "version": "3.12.3"
  }
 },
 "nbformat": 4,
 "nbformat_minor": 2
}

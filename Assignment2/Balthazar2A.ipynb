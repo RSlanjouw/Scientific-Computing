{
 "cells": [
  {
   "cell_type": "code",
   "execution_count": 1,
   "metadata": {},
   "outputs": [],
   "source": [
    "import numpy as np\n",
    "import matplotlib.pyplot as plt\n",
    "from numba import njit"
   ]
  },
  {
   "cell_type": "code",
   "execution_count": null,
   "metadata": {},
   "outputs": [],
   "source": [
    "@njit\n",
    "def update_contour(candidate_loc, contour, domain):\n",
    "    n = len(contour)\n",
    "    x = candidate_loc[0]\n",
    "    y = candidate_loc[1]\n",
    "    domain[x, y] = 0\n",
    "    contour[x, y] = 1\n",
    "    neighbours = []\n",
    "    if x > 0:\n",
    "        neighbours.append([x-1, y])\n",
    "    if y > 0:\n",
    "        neighbours.append([x, y-1])\n",
    "    if x < n-1:\n",
    "        neighbours.append([x+1, y])\n",
    "    if y < n-1:\n",
    "        neighbours.append([x, y+1])\n",
    "    for neigh in neighbours:\n",
    "        if contour[neigh[0], neigh[1]] != 1 and neigh[0] in range(1, n-1) and neigh[1] in range(1, n-1):\n",
    "            contour[neigh[0], neigh[1]] = 2\n",
    "    candidates = [[x, y] for x in range(0,n) for y in range(0,n) if contour[x,y] == 2]\n",
    "    return contour, candidates\n",
    "\n",
    "def aggregate_candidate(candidates, domain, eta):\n",
    "    a = [(domain[i, j])**eta for [i, j] in candidates]\n",
    "    prob_cand = [c/np.sum(a) for c in a]\n",
    "    agg_cand = candidates[np.random.choice(len(candidates), p = prob_cand)]\n",
    "    return agg_cand\n",
    "\n",
    "@njit\n",
    "def jacobi_iteration(domain, contour):\n",
    "    n = len(domain)\n",
    "    next_domain = domain.copy()\n",
    "    for x in range(1, n):\n",
    "        for y in range(0, n):\n",
    "            if contour[x, y] != 1:\n",
    "                neighbours = []\n",
    "                if contour[x-1, y] != 1:\n",
    "                    neighbours.append(domain[x-1, y])\n",
    "                if y > 0 and contour[x, y-1] != 1:\n",
    "                    neighbours.append(domain[x, y-1])\n",
    "                elif y == 0 and contour[x, -2] != 1:\n",
    "                    neighbours.append(domain[x, -2])\n",
    "                if x < n and contour[x+1, y] != 1:\n",
    "                    neighbours.append(domain[x+1, y])\n",
    "                if y < n and contour[x, y] != 1:\n",
    "                    neighbours.append(domain[x, y+1])\n",
    "                elif y == n and contour[x, 1] != 1:\n",
    "                    neighbours.append(domain[x, 1])\n",
    "                if not neighbours:\n",
    "                    next_domain[x, y] = 0\n",
    "                else:\n",
    "                    next_domain[x, y] = sum(neighbours) / len(neighbours)\n",
    "    return next_domain\n",
    "\n",
    "@njit\n",
    "def jacobi(domain, contour, eps = 1e-5):\n",
    "    conv = 1\n",
    "    while conv > eps:\n",
    "        next_domain = jacobi_iteration(domain, contour)\n",
    "        diff = np.abs(next_domain - domain)\n",
    "        conv = np.max(diff)\n",
    "        domain = next_domain\n",
    "    return next_domain"
   ]
  },
  {
   "cell_type": "code",
   "execution_count": null,
   "metadata": {},
   "outputs": [
    {
     "ename": "",
     "evalue": "",
     "output_type": "error",
     "traceback": [
      "\u001b[1;31mFailed to interrupt the Kernel. \n",
      "\u001b[1;31mUnable to start Kernel 'base (Python 3.12.3)' due to a timeout waiting for the ports to get used. \n",
      "\u001b[1;31mView Jupyter <a href='command:jupyter.viewOutput'>log</a> for further details."
     ]
    }
   ],
   "source": [
    "n = 30 # grid length (once squared)\n",
    "eta = .1 # shape parameter \n",
    "\n",
    "domain = np.zeros((n, n))\n",
    "domain[0, :] = 1\n",
    "contour = np.zeros((n, n))\n",
    "\n",
    "contour, candidates = update_contour([n-2, n//2], contour, domain)\n",
    "domain = jacobi(domain, contour)\n",
    "print(domain)\n",
    "\n",
    "for _ in range(30):\n",
    "    cand = aggregate_candidate(candidates, domain, eta)\n",
    "    contour, candidates = update_contour(cand, contour, domain)\n",
    "    domain = jacobi(domain, contour)\n",
    "\n",
    "im = plt.imshow(domain, cmap='viridis_r')\n",
    "plt.xlim(0, n-1)\n",
    "plt.ylim(n-1, 0)\n",
    "plt.show()"
   ]
  }
 ],
 "metadata": {
  "kernelspec": {
   "display_name": "base",
   "language": "python",
   "name": "python3"
  },
  "language_info": {
   "codemirror_mode": {
    "name": "ipython",
    "version": 3
   },
   "file_extension": ".py",
   "mimetype": "text/x-python",
   "name": "python",
   "nbconvert_exporter": "python",
   "pygments_lexer": "ipython3",
   "version": "3.12.3"
  }
 },
 "nbformat": 4,
 "nbformat_minor": 2
}

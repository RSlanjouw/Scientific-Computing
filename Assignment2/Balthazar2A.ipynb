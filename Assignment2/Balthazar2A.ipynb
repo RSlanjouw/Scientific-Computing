{
 "cells": [
  {
   "cell_type": "code",
   "execution_count": 1,
   "metadata": {},
   "outputs": [],
   "source": [
    "import numpy as np\n",
    "import matplotlib.pyplot as plt\n",
    "from matplotlib import animation\n",
    "from IPython.display import HTML\n",
    "from numba import njit"
   ]
  },
  {
   "cell_type": "code",
   "execution_count": 2,
   "metadata": {},
   "outputs": [
    {
     "name": "stdout",
     "output_type": "stream",
     "text": [
      "[[0. 0. 0. 0. 0.]\n",
      " [0. 0. 0. 0. 0.]\n",
      " [0. 0. 0. 0. 0.]\n",
      " [0. 0. 0. 0. 0.]\n",
      " [0. 0. 2. 0. 0.]]\n"
     ]
    }
   ],
   "source": [
    "# initialize\n",
    "n = 5 # grid length (once squared)\n",
    "eta = 1 # shape parameter \n",
    "domain = np.zeros((n, n))\n",
    "domain[n-1, n//2]=1\n",
    "contour = np.copy(domain)\n",
    "contour[n-1, n//2]=2\n",
    "print(contour)"
   ]
  },
  {
   "cell_type": "code",
   "execution_count": 3,
   "metadata": {},
   "outputs": [],
   "source": [
    "@njit\n",
    "def update_contour(candidate_loc, contour):\n",
    "    n = len(contour)\n",
    "    x = candidate_loc[0]\n",
    "    y = candidate_loc[1]\n",
    "    contour[x, y] = 1\n",
    "    neighbours = []\n",
    "    if x > 0:\n",
    "        neighbours.append([x-1, y])\n",
    "    if y > 0:\n",
    "        neighbours.append([x, y-1])\n",
    "    if x < n-1:\n",
    "        neighbours.append([x+1, y])\n",
    "    if y < n-1:\n",
    "        neighbours.append([x, y+1])\n",
    "    for neigh in neighbours:\n",
    "        if contour[neigh[0], neigh[1]] != 1:\n",
    "            contour[neigh[0], neigh[1]] = 2\n",
    "    candidates = [[x, y] for x in range(0,n) for y in range(0,n) if contour[x,y] == 2]\n",
    "    return contour, candidates\n",
    "\n",
    "@njit\n",
    "def aggregate_candidate(candidates):\n",
    "    agg_cand = np.random.choice(candidates)\n",
    "    return agg_cand"
   ]
  },
  {
   "cell_type": "code",
   "execution_count": 20,
   "metadata": {},
   "outputs": [
    {
     "name": "stdout",
     "output_type": "stream",
     "text": [
      "[[0. 0. 0. ... 0. 0. 0.]\n",
      " [0. 0. 0. ... 0. 0. 0.]\n",
      " [0. 0. 0. ... 0. 0. 0.]\n",
      " ...\n",
      " [0. 0. 0. ... 0. 0. 0.]\n",
      " [0. 0. 0. ... 0. 0. 0.]\n",
      " [0. 0. 0. ... 0. 0. 0.]] [[938, 494], [939, 493], [939, 495], [940, 480], [940, 482], [940, 485], [940, 491], [940, 492], [940, 496], [941, 479], [941, 481], [941, 483], [941, 484], [941, 486], [941, 489], [941, 490], [941, 497], [942, 478], [942, 483], [942, 484], [942, 487], [942, 488], [942, 490], [942, 498], [942, 508], [942, 509], [942, 511], [942, 515], [942, 520], [943, 475], [943, 479], [943, 486], [943, 487], [943, 488], [943, 495], [943, 496], [943, 499], [943, 506], [943, 507], [943, 510], [943, 512], [943, 513], [943, 514], [943, 516], [943, 519], [943, 521], [944, 474], [944, 476], [944, 477], [944, 478], [944, 483], [944, 484], [944, 485], [944, 486], [944, 488], [944, 494], [944, 496], [944, 498], [944, 505], [944, 510], [944, 512], [944, 516], [944, 518], [944, 519], [944, 521], [945, 474], [945, 480], [945, 481], [945, 484], [945, 486], [945, 499], [945, 506], [945, 514], [945, 517], [945, 521], [945, 522], [945, 523], [946, 474], [946, 481], [946, 496], [946, 500], [946, 506], [946, 507], [946, 515], [946, 520], [946, 521], [946, 524], [946, 526], [947, 466], [947, 468], [947, 469], [947, 470], [947, 471], [947, 473], [947, 474], [947, 475], [947, 476], [947, 477], [947, 484], [947, 487], [947, 500], [947, 503], [947, 504], [947, 505], [947, 510], [947, 512], [947, 523], [947, 525], [947, 527], [947, 529], [947, 530], [948, 465], [948, 467], [948, 472], [948, 476], [948, 499], [948, 502], [948, 520], [948, 521], [948, 522], [948, 523], [948, 528], [948, 531], [949, 465], [949, 489], [949, 499], [949, 500], [949, 502], [949, 512], [949, 517], [949, 520], [949, 522], [949, 525], [949, 528], [949, 530], [949, 531], [950, 466], [950, 467], [950, 468], [950, 474], [950, 501], [950, 504], [950, 505], [950, 532], [951, 467], [951, 472], [951, 473], [951, 474], [951, 499], [951, 503], [951, 522], [951, 523], [951, 529], [951, 531], [952, 465], [952, 466], [952, 468], [952, 473], [952, 478], [952, 528], [952, 530], [952, 532], [953, 462], [953, 464], [953, 466], [953, 479], [953, 529], [953, 533], [954, 461], [954, 463], [954, 464], [954, 531], [954, 532], [955, 461], [955, 467], [955, 531], [955, 533], [955, 534], [955, 535], [956, 460], [956, 532], [956, 536], [956, 538], [957, 460], [957, 462], [957, 463], [957, 464], [957, 529], [957, 530], [957, 532], [957, 533], [957, 535], [957, 536], [957, 537], [957, 539], [958, 460], [958, 532], [958, 539], [959, 459], [959, 461], [959, 532], [959, 534], [959, 539], [960, 459], [960, 538], [960, 543], [960, 544], [961, 457], [961, 458], [961, 535], [961, 539], [961, 542], [961, 545], [962, 456], [962, 458], [962, 459], [962, 540], [962, 542], [962, 545], [963, 456], [963, 458], [963, 463], [963, 538], [963, 540], [963, 541], [963, 542], [963, 544], [963, 546], [964, 453], [964, 454], [964, 455], [964, 460], [964, 463], [964, 542], [964, 544], [964, 546], [964, 547], [965, 451], [965, 452], [965, 456], [965, 541], [965, 548], [966, 450], [966, 539], [966, 546], [966, 549], [967, 451], [967, 548], [967, 550], [968, 450], [968, 451], [968, 549], [968, 551], [968, 552], [968, 553], [969, 449], [969, 554], [970, 449], [970, 452], [970, 552], [970, 553], [971, 449], [971, 452], [971, 551], [972, 449], [972, 451], [972, 454], [972, 550], [972, 551], [973, 448], [973, 449], [973, 456], [973, 552], [974, 447], [974, 449], [974, 455], [974, 548], [974, 552], [975, 447], [975, 450], [975, 552], [975, 554], [976, 447], [976, 550], [976, 553], [976, 555], [977, 448], [977, 451], [977, 556], [978, 448], [978, 554], [978, 555], [978, 556], [979, 448], [979, 450], [979, 452], [979, 454], [979, 551], [979, 553], [979, 554], [979, 555], [979, 557], [980, 449], [980, 451], [980, 453], [980, 558], [981, 447], [981, 448], [981, 449], [981, 555], [981, 556], [981, 557], [982, 446], [982, 556], [983, 446], [983, 556], [984, 446], [984, 555], [985, 445], [985, 447], [985, 556], [986, 445], [986, 450], [986, 553], [986, 557], [987, 446], [987, 447], [987, 450], [987, 453], [987, 455], [987, 558], [988, 446], [988, 449], [988, 451], [988, 452], [988, 557], [989, 447], [989, 448], [989, 450], [989, 548], [989, 554], [989, 555], [989, 557], [990, 447], [990, 448], [990, 449], [990, 554], [990, 556], [991, 446], [991, 450], [991, 549], [991, 553], [992, 445], [992, 446], [992, 551], [992, 552], [992, 553], [993, 444], [993, 554], [994, 445], [994, 446], [994, 447], [994, 553], [995, 444], [995, 447], [995, 549], [995, 550], [995, 552], [996, 444], [996, 549], [996, 551], [996, 553], [996, 554], [996, 555], [997, 445], [997, 448], [997, 556], [998, 445], [998, 555], [999, 445], [999, 556]]\n"
     ]
    },
    {
     "data": {
      "image/png": "[encoded data removed]",
      "text/plain": [
       "<Figure size 640x480 with 1 Axes>"
      ]
     },
     "metadata": {},
     "output_type": "display_data"
    }
   ],
   "source": [
    "n = 1000\n",
    "contour = np.zeros((n,n))\n",
    "candidates = [[n-1, n//2]] # initial cluster point\n",
    "\n",
    "for _ in range(5000):\n",
    "    candidates_array = np.array(candidates)\n",
    "    if candidates_array.any():\n",
    "        cand = candidates_array[np.random.randint(len(candidates_array))]\n",
    "    else:\n",
    "        break\n",
    "    contour, candidates = update_contour(cand, contour)\n",
    "print(contour, candidates)\n",
    "im = plt.imshow(contour)\n",
    "plt.show()"
   ]
  }
 ],
 "metadata": {
  "kernelspec": {
   "display_name": "base",
   "language": "python",
   "name": "python3"
  },
  "language_info": {
   "codemirror_mode": {
    "name": "ipython",
    "version": 3
   },
   "file_extension": ".py",
   "mimetype": "text/x-python",
   "name": "python",
   "nbconvert_exporter": "python",
   "pygments_lexer": "ipython3",
   "version": "3.12.3"
  }
 },
 "nbformat": 4,
 "nbformat_minor": 2
}

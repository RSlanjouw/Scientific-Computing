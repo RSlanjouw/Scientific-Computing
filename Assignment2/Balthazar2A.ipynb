{
 "cells": [
  {
   "cell_type": "code",
   "execution_count": 1,
   "metadata": {},
   "outputs": [],
   "source": [
    "import numpy as np\n",
    "import matplotlib.pyplot as plt\n",
    "from numba import njit"
   ]
  },
  {
   "cell_type": "code",
   "execution_count": 2,
   "metadata": {},
   "outputs": [],
   "source": [
    "@njit\n",
    "def update_contour(candidate_loc, contour, domain):\n",
    "    n = len(contour)\n",
    "    x = candidate_loc[0]\n",
    "    y = candidate_loc[1]\n",
    "    domain[x, y] = 0\n",
    "    contour[x, y] = 1\n",
    "    neighbours = []\n",
    "    if x > 0:\n",
    "        neighbours.append([x-1, y])\n",
    "    if y > 0:\n",
    "        neighbours.append([x, y-1])\n",
    "    if x < n-1:\n",
    "        neighbours.append([x+1, y])\n",
    "    if y < n-1:\n",
    "        neighbours.append([x, y+1])\n",
    "    for neigh in neighbours:\n",
    "        if contour[neigh[0], neigh[1]] != 1 and neigh[0] in range(1, n-1) and neigh[1] in range(1, n-1):\n",
    "            contour[neigh[0], neigh[1]] = 2\n",
    "    candidates = [[x, y] for x in range(0,n) for y in range(0,n) if contour[x,y] == 2]\n",
    "    return contour, candidates\n",
    "\n",
    "def aggregate_candidate(candidates, domain, eta):\n",
    "    a = [(domain[i, j])**eta for [i, j] in candidates]\n",
    "    prob_cand = [c/np.sum(a) for c in a]\n",
    "    agg_cand = candidates[np.random.choice(len(candidates), p = prob_cand)]\n",
    "    return agg_cand\n",
    "\n",
    "@njit\n",
    "def jacobi_iteration(matrix, contour):\n",
    "    n = len(matrix)\n",
    "    next_matrix = np.copy(matrix)\n",
    "        \n",
    "    for j in range (1, n-1):\n",
    "        if contour[j,0] == 1:\n",
    "            next_matrix[j, 0] = 0\n",
    "        else:\n",
    "            # west boundary case where x = 0:\n",
    "            next_matrix[j,0] = 1/4 * (matrix[j,1] + matrix[j,-2] + matrix[j+1,0] + matrix[j-1,0])\n",
    "\n",
    "        # non-boundary case \n",
    "        for i in range (1, n-1):\n",
    "            if contour[j,i] == 1:\n",
    "                next_matrix[j, i] = 0\n",
    "            else:\n",
    "                next_matrix[j,i] = 1/4 * (matrix[j,i+1] + matrix[j,i-1] + matrix[j+1,i] + matrix[j-1,i])\n",
    "        if contour[j,-1] == 1:\n",
    "            next_matrix[j, -1] = 0\n",
    "        else:\n",
    "            # east boundary case where x = n:\n",
    "            next_matrix[j,-1] = 1/4 * (matrix[j,1] + matrix[j,-2] + matrix[j+1,-1] + matrix[j-1,-1])\n",
    "    return next_matrix\n",
    "\n",
    "@njit\n",
    "def jacobi(domain, contour, eps = 1e-5):\n",
    "    conv = 1\n",
    "    while conv > eps:\n",
    "        next_domain = jacobi_iteration(domain, contour)\n",
    "        diff = np.abs(next_domain - domain)\n",
    "        conv = np.max(diff)\n",
    "        domain = next_domain\n",
    "    return next_domain"
   ]
  },
  {
   "cell_type": "code",
   "execution_count": 28,
   "metadata": {},
   "outputs": [
    {
     "data": {
      "image/png": "[encoded data removed]",
      "text/plain": [
       "<Figure size 640x480 with 1 Axes>"
      ]
     },
     "metadata": {},
     "output_type": "display_data"
    }
   ],
   "source": [
    "n = 100 # grid length (once squared)\n",
    "eta = 1.5 # shape parameter \n",
    "\n",
    "domain = np.zeros((n, n))\n",
    "domain[0, :] = 1\n",
    "contour = np.zeros((n, n))\n",
    "\n",
    "contour, candidates = update_contour([n-1, n//2], contour, domain)\n",
    "domain = jacobi(domain, contour)\n",
    "\n",
    "for _ in range(300):\n",
    "    cand = aggregate_candidate(candidates, domain, eta)\n",
    "    contour, candidates = update_contour(cand, contour, domain)\n",
    "    domain = jacobi(domain, contour)\n",
    "\n",
    "#color_domain = np.copy(domain)\n",
    "#if contour[x,y]\n",
    "im = plt.imshow(contour, cmap='hot_r')\n",
    "plt.xlim(0, n-1)\n",
    "plt.ylim(n-1, 0)\n",
    "plt.show()"
   ]
  }
 ],
 "metadata": {
  "kernelspec": {
   "display_name": "base",
   "language": "python",
   "name": "python3"
  },
  "language_info": {
   "codemirror_mode": {
    "name": "ipython",
    "version": 3
   },
   "file_extension": ".py",
   "mimetype": "text/x-python",
   "name": "python",
   "nbconvert_exporter": "python",
   "pygments_lexer": "ipython3",
   "version": "3.12.3"
  }
 },
 "nbformat": 4,
 "nbformat_minor": 2
}
